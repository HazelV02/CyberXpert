{
 "cells": [
  {
   "cell_type": "code",
   "execution_count": 9,
   "id": "48b78126-4318-48e9-b40a-88876d6a76d4",
   "metadata": {},
   "outputs": [
    {
     "name": "stderr",
     "output_type": "stream",
     "text": [
      "Processing rows: 100%|████████████████████████████████████████████████████████████| 484/484 [00:00<00:00, 28307.09it/s]"
     ]
    },
    {
     "name": "stdout",
     "output_type": "stream",
     "text": [
      "Extracted 459 terms and definitions and saved them to 'sans_glossary_terms.csv'.\n"
     ]
    },
    {
     "name": "stderr",
     "output_type": "stream",
     "text": [
      "\n"
     ]
    }
   ],
   "source": [
    "import requests\n",
    "from bs4 import BeautifulSoup\n",
    "import csv\n",
    "from tqdm import tqdm\n",
    "\n",
    "# Fetch the webpage content\n",
    "url = \"https://www.sans.org/security-resources/glossary-of-terms/\"\n",
    "response = requests.get(url)\n",
    "\n",
    "# Parse the webpage content\n",
    "soup = BeautifulSoup(response.text, 'html.parser')\n",
    "\n",
    "# Find all <p> tags\n",
    "p_tags = soup.find_all('p')\n",
    "\n",
    "# Prepare a list to store the terms and definitions\n",
    "terms_and_definitions = []\n",
    "\n",
    "# Temporary variable to store the current term\n",
    "current_term = None\n",
    "current_definition = []\n",
    "\n",
    "# Loop through each <p> tag and extract the terms and definitions\n",
    "for p in tqdm(p_tags, desc=\"Processing rows\"):\n",
    "    # Check if there's a <strong> tag (the term)\n",
    "    strong_tag = p.find('strong')\n",
    "    \n",
    "    if strong_tag:\n",
    "        # If we were already processing a term, save it\n",
    "        if current_term and current_definition:\n",
    "            terms_and_definitions.append([current_term, ' '.join(current_definition).strip()])\n",
    "        \n",
    "        # Extract the new term and reset the definition\n",
    "        current_term = strong_tag.get_text(strip=True)\n",
    "        current_definition = []\n",
    "    \n",
    "    # If we're in a term block, add text to the definition\n",
    "    if current_term:\n",
    "        # Add the text content of the current <p> tag to the definition\n",
    "        p_text = p.get_text(strip=True)\n",
    "        \n",
    "        # Skip the term text that is already handled by the strong tag\n",
    "        if p_text != current_term:\n",
    "            current_definition.append(p_text)\n",
    "\n",
    "# After the loop, save the last term and definition if present\n",
    "if current_term and current_definition:\n",
    "    terms_and_definitions.append([current_term, ' '.join(current_definition).strip()])\n",
    "\n",
    "# Write the extracted terms and definitions to a CSV file\n",
    "with open('sans_glossary_terms.csv', 'w', newline='', encoding='utf-8') as file:\n",
    "    writer = csv.writer(file)\n",
    "    writer.writerow(['Term', 'Definition'])\n",
    "    for term, definition in terms_and_definitions:\n",
    "        writer.writerow([term, definition])\n",
    "\n",
    "print(f\"Extracted {len(terms_and_definitions)} terms and definitions and saved them to 'sans_glossary_terms.csv'.\")\n"
   ]
  },
  {
   "cell_type": "code",
   "execution_count": null,
   "id": "4981b724-ea0c-48f6-8e2e-29e398770d12",
   "metadata": {},
   "outputs": [],
   "source": []
  }
 ],
 "metadata": {
  "kernelspec": {
   "display_name": "Python 3 (ipykernel)",
   "language": "python",
   "name": "python3"
  },
  "language_info": {
   "codemirror_mode": {
    "name": "ipython",
    "version": 3
   },
   "file_extension": ".py",
   "mimetype": "text/x-python",
   "name": "python",
   "nbconvert_exporter": "python",
   "pygments_lexer": "ipython3",
   "version": "3.12.2"
  }
 },
 "nbformat": 4,
 "nbformat_minor": 5
}
